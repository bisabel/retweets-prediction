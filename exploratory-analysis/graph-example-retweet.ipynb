{
 "cells": [
  {
   "cell_type": "markdown",
   "metadata": {
    "deletable": true,
    "editable": true
   },
   "source": [
    "# Graph retweets"
   ]
  },
  {
   "cell_type": "markdown",
   "metadata": {},
   "source": [
    "Using the Twitter API and having selected an objective tweet https://twitter.com/yesjimstheman/status/1211355167855169536,\n",
    "I request the information of all the retweets that have been made and the exact moment."
   ]
  },
  {
   "cell_type": "code",
   "execution_count": 113,
   "metadata": {
    "collapsed": false,
    "deletable": true,
    "editable": true
   },
   "outputs": [
    {
     "data": {
      "text/plain": [
       "737422.7752199074"
      ]
     },
     "execution_count": 113,
     "metadata": {},
     "output_type": "execute_result"
    }
   ],
   "source": [
    "%matplotlib inline\n",
    "import numpy as np\n",
    "from pylab import *\n",
    "import matplotlib.pyplot as plt\n",
    "\n",
    "series = [\n",
    "'Mon Dec 30 16:48:26 +0000 2019',\n",
    "'Mon Dec 30 15:29:50 +0000 2019',\n",
    "'Mon Dec 30 14:38:41 +0000 2019',\n",
    "'Mon Dec 30 12:46:22 +0000 2019',\n",
    "'Mon Dec 30 10:40:10 +0000 2019',\n",
    "'Mon Dec 30 09:21:35 +0000 2019',\n",
    "'Mon Dec 30 08:26:47 +0000 2019',\n",
    "'Mon Dec 30 07:47:30 +0000 2019',\n",
    "'Mon Dec 30 06:51:26 +0000 2019',\n",
    "'Mon Dec 30 06:06:11 +0000 2019',\n",
    "'Mon Dec 30 05:44:19 +0000 2019',\n",
    "'Mon Dec 30 04:20:17 +0000 2019',\n",
    "'Mon Dec 30 03:50:06 +0000 2019',\n",
    "'Mon Dec 30 03:33:27 +0000 2019',\n",
    "'Mon Dec 30 01:41:17 +0000 2019',\n",
    "'Mon Dec 30 01:19:22 +0000 2019',\n",
    "'Mon Dec 30 01:18:37 +0000 2019',\n",
    "'Mon Dec 30 00:20:58 +0000 2019',\n",
    "'Mon Dec 30 00:01:46 +0000 2019',\n",
    "'Sun Dec 29 23:16:46 +0000 2019',\n",
    "'Sun Dec 29 22:45:30 +0000 2019',\n",
    "'Sun Dec 29 22:27:03 +0000 2019',\n",
    "'Sun Dec 29 22:22:38 +0000 2019',\n",
    "'Sun Dec 29 22:18:34 +0000 2019',\n",
    "'Sun Dec 29 21:46:13 +0000 2019',\n",
    "'Sun Dec 29 21:22:16 +0000 2019',\n",
    "'Sun Dec 29 21:02:06 +0000 2019',\n",
    "'Sun Dec 29 20:54:48 +0000 2019',\n",
    "'Sun Dec 29 20:39:08 +0000 2019',\n",
    "'Sun Dec 29 20:38:06 +0000 2019',\n",
    "'Sun Dec 29 20:35:03 +0000 2019',\n",
    "'Sun Dec 29 20:31:46 +0000 2019',\n",
    "'Sun Dec 29 19:59:48 +0000 2019',\n",
    "'Sun Dec 29 19:51:47 +0000 2019',\n",
    "'Sun Dec 29 19:51:12 +0000 2019',\n",
    "'Sun Dec 29 19:46:03 +0000 2019',\n",
    "'Sun Dec 29 19:39:49 +0000 2019',\n",
    "'Sun Dec 29 19:24:13 +0000 2019',\n",
    "'Sun Dec 29 19:18:46 +0000 2019',\n",
    "'Sun Dec 29 19:00:14 +0000 2019',\n",
    "'Sun Dec 29 19:00:08 +0000 2019',\n",
    "'Sun Dec 29 18:54:29 +0000 2019',\n",
    "'Sun Dec 29 18:46:27 +0000 2019',\n",
    "'Sun Dec 29 18:45:15 +0000 2019',\n",
    "'Sun Dec 29 18:44:18 +0000 2019',\n",
    "'Sun Dec 29 18:43:24 +0000 2019',\n",
    "'Sun Dec 29 18:39:23 +0000 2019',\n",
    "'Sun Dec 29 18:39:17 +0000 2019',\n",
    "'Sun Dec 29 18:38:50 +0000 2019',\n",
    "'Sun Dec 29 18:37:31 +0000 2019',\n",
    "'Sun Dec 29 18:36:18 +0000 2019']\n",
    "\n",
    "\n",
    "matplotlib.dates.datestr2num('Sun Dec 29 18:36:18 +0000 2019')\n",
    "#737422.7752083334\n",
    "matplotlib.dates.datestr2num('Sun Dec 29 18:36:19 +0000 2019')\n",
    "#737422.7752199074"
   ]
  },
  {
   "cell_type": "markdown",
   "metadata": {},
   "source": [
    "Using the function matplotlib.dates.datestr2num, transform the string recived by the API to a number.\n",
    "In this way, the graph can be represented.\n",
    "Also, the variable N has the acumulate of retweets."
   ]
  },
  {
   "cell_type": "code",
   "execution_count": 114,
   "metadata": {
    "collapsed": false,
    "deletable": true,
    "editable": true
   },
   "outputs": [
    {
     "data": {
      "text/plain": [
       "<matplotlib.collections.PathCollection at 0x7fc6e935a208>"
      ]
     },
     "execution_count": 114,
     "metadata": {},
     "output_type": "execute_result"
    },
    {
     "data": {
      "image/png": "[encoded data removed]",
      "text/plain": [
       "<matplotlib.figure.Figure at 0x7fc6e9d58cc0>"
      ]
     },
     "metadata": {},
     "output_type": "display_data"
    }
   ],
   "source": [
    "series = [ matplotlib.dates.datestr2num(i) for i in series]\n",
    "N = []\n",
    "while len(N) < len(series):\n",
    "    N.append(len(series)-len(N))\n",
    "    \n",
    "    \n",
    "scatter(series,N)"
   ]
  },
  {
   "cell_type": "code",
   "execution_count": null,
   "metadata": {
    "collapsed": true,
    "deletable": true,
    "editable": true
   },
   "outputs": [],
   "source": []
  }
 ],
 "metadata": {
  "kernelspec": {
   "display_name": "Python 3",
   "language": "python",
   "name": "python3"
  },
  "language_info": {
   "codemirror_mode": {
    "name": "ipython",
    "version": 3
   },
   "file_extension": ".py",
   "mimetype": "text/x-python",
   "name": "python",
   "nbconvert_exporter": "python",
   "pygments_lexer": "ipython3",
   "version": "3.5.2"
  }
 },
 "nbformat": 4,
 "nbformat_minor": 2
}
